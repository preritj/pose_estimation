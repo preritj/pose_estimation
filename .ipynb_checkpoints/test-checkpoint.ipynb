{
 "cells": [
  {
   "cell_type": "code",
   "execution_count": 1,
   "metadata": {},
   "outputs": [
    {
     "name": "stderr",
     "output_type": "stream",
     "text": [
      "/usr/local/lib/python3.5/dist-packages/h5py/__init__.py:36: FutureWarning: Conversion of the second argument of issubdtype from `float` to `np.floating` is deprecated. In future, it will be treated as `np.float64 == np.dtype(float).type`.\n",
      "  from ._conv import register_converters as _register_converters\n"
     ]
    },
    {
     "name": "stdout",
     "output_type": "stream",
     "text": [
      "WARNING:tensorflow:From /usr/local/lib/python3.5/dist-packages/tensorflow/contrib/learn/python/learn/datasets/base.py:198: retry (from tensorflow.contrib.learn.python.learn.datasets.base) is deprecated and will be removed in a future version.\n",
      "Instructions for updating:\n",
      "Use the retry module or similar alternatives.\n"
     ]
    }
   ],
   "source": [
    "import sys\n",
    "import tensorflow as tf\n",
    "sys.path.append('./dataset')\n",
    "\n",
    "from dataset.data_gen import PoseDataReader"
   ]
  },
  {
   "cell_type": "code",
   "execution_count": 2,
   "metadata": {},
   "outputs": [
    {
     "name": "stdout",
     "output_type": "stream",
     "text": [
      "loading annotations into memory...\n"
     ]
    },
    {
     "name": "stderr",
     "output_type": "stream",
     "text": [
      " 43%|████▎     | 4723/11004 [00:00<00:00, 23598.42it/s]"
     ]
    },
    {
     "name": "stdout",
     "output_type": "stream",
     "text": [
      "Done (t=0.24s)\n",
      "creating index...\n"
     ]
    },
    {
     "name": "stderr",
     "output_type": "stream",
     "text": [
      "100%|██████████| 11004/11004 [00:00<00:00, 21895.78it/s]\n",
      "  2%|▏         | 48/2287 [00:00<00:04, 468.34it/s]"
     ]
    },
    {
     "name": "stdout",
     "output_type": "stream",
     "text": [
      "index created!\n",
      "Creating tf records :  /media/storage/tfrecords/coco/val2017.records\n"
     ]
    },
    {
     "name": "stderr",
     "output_type": "stream",
     "text": [
      "100%|██████████| 2287/2287 [00:04<00:00, 518.56it/s]\n"
     ]
    }
   ],
   "source": [
    "data_reader = PoseDataReader()\n",
    "img_dir = '/media/storage/datasets/pose/coco/images/val2017'\n",
    "tfrecords_path = '/media/storage/tfrecords/coco/val2017.records'\n",
    "annotation_files = '/media/storage/datasets/pose/coco/annotations/person_keypoints_val2017.json'\n",
    "data_reader.add_dataset('coco', img_dir, tfrecords_path, annotation_files)"
   ]
  },
  {
   "cell_type": "code",
   "execution_count": 7,
   "metadata": {},
   "outputs": [],
   "source": [
    "class config:\n",
    "    shuffle = True\n",
    "    filenames_shuffle_buffer_size = 100\n",
    "    num_parallel_map_calls = 8\n",
    "    num_epochs = 0\n",
    "    num_readers = 32\n",
    "    read_block_length = 32\n",
    "    shuffle_buffer_size = 2048\n",
    "    prefetch_size = 512\n",
    "    batch_size = 32\n",
    "\n",
    "with tf.Session() as sess:\n",
    "    dataset = data_reader.read_data(config)\n",
    "    iterator = dataset.make_initializable_iterator()\n",
    "    next_element = iterator.get_next()\n",
    "\n",
    "    counter = 0\n",
    "    sess.run(iterator.initializer)\n",
    "    while counter < 15:\n",
    "        dp = sess.run(next_element)\n",
    "        counter += 1"
   ]
  },
  {
   "cell_type": "code",
   "execution_count": 8,
   "metadata": {},
   "outputs": [
    {
     "data": {
      "text/plain": [
       "(15, 3, 1)"
      ]
     },
     "execution_count": 8,
     "metadata": {},
     "output_type": "execute_result"
    }
   ],
   "source": [
    "dp[1].shape"
   ]
  },
  {
   "cell_type": "code",
   "execution_count": null,
   "metadata": {},
   "outputs": [],
   "source": []
  }
 ],
 "metadata": {
  "kernelspec": {
   "display_name": "Python 3",
   "language": "python",
   "name": "python3"
  },
  "language_info": {
   "codemirror_mode": {
    "name": "ipython",
    "version": 3
   },
   "file_extension": ".py",
   "mimetype": "text/x-python",
   "name": "python",
   "nbconvert_exporter": "python",
   "pygments_lexer": "ipython3",
   "version": "3.5.2"
  }
 },
 "nbformat": 4,
 "nbformat_minor": 2
}
